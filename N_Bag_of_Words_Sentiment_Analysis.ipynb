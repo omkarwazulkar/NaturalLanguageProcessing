{
  "nbformat": 4,
  "nbformat_minor": 0,
  "metadata": {
    "colab": {
      "name": "N Bag-of-Words Sentiment Analysis.ipynb",
      "provenance": [],
      "collapsed_sections": [],
      "mount_file_id": "1t9ZiPhXkDejbi5MfX2uFJqHM1sQXAysN",
      "authorship_tag": "ABX9TyNOlvouH2SwDWocedDTxyLJ",
      "include_colab_link": true
    },
    "kernelspec": {
      "name": "python3",
      "display_name": "Python 3"
    },
    "language_info": {
      "name": "python"
    }
  },
  "cells": [
    {
      "cell_type": "markdown",
      "metadata": {
        "id": "view-in-github",
        "colab_type": "text"
      },
      "source": [
        "<a href=\"https://colab.research.google.com/github/omkarwazulkar/NaturalLanguageProcessing/blob/main/N_Bag_of_Words_Sentiment_Analysis.ipynb\" target=\"_parent\"><img src=\"https://colab.research.google.com/assets/colab-badge.svg\" alt=\"Open In Colab\"/></a>"
      ]
    },
    {
      "cell_type": "code",
      "execution_count": 1,
      "metadata": {
        "colab": {
          "base_uri": "https://localhost:8080/"
        },
        "id": "xyRmsAo5_0QO",
        "outputId": "09f67743-20ee-417a-8d3b-27d03ee6b981"
      },
      "outputs": [
        {
          "output_type": "stream",
          "name": "stdout",
          "text": [
            "[nltk_data] Downloading package stopwords to /root/nltk_data...\n",
            "[nltk_data]   Package stopwords is already up-to-date!\n"
          ]
        }
      ],
      "source": [
        "import nltk\n",
        "nltk.download('stopwords')\n",
        "from nltk.corpus import stopwords\n",
        "import string\n",
        "import re"
      ]
    },
    {
      "cell_type": "code",
      "source": [
        "# Loading Doc\n",
        "\n",
        "def load_doc(filename):\n",
        "  file = open(filename, 'r')\n",
        "  text = file.read()\n",
        "  file.close()\n",
        "  return text"
      ],
      "metadata": {
        "id": "vmIuBOkZAPkL"
      },
      "execution_count": 2,
      "outputs": []
    },
    {
      "cell_type": "code",
      "source": [
        "# Cleaning Doc\n",
        "\n",
        "def clean_doc(doc):\n",
        "  tokens = doc.split()\n",
        "  re_punc = re.compile('[%s]' % re.escape(string.punctuation))\n",
        "  tokens = [re_punc.sub('', w) for w in tokens]\n",
        "  tokens = [word for word in tokens if word.isalpha()]\n",
        "  stop_words = set(stopwords.words('english'))\n",
        "  tokens = [w for w in tokens if not w in stop_words]\n",
        "  tokens = [word for word in tokens if len(word) > 1]\n",
        "  return tokens"
      ],
      "metadata": {
        "id": "PMpb8ZjEGaL1"
      },
      "execution_count": 3,
      "outputs": []
    },
    {
      "cell_type": "code",
      "source": [
        "# Load Doc and Add To Vocab\n",
        "\n",
        "def add_doc_to_vocab(filename, vocab):\n",
        "  doc = load_doc(filename)\n",
        "  tokens = clean_doc(doc)\n",
        "  vocab.update(tokens)"
      ],
      "metadata": {
        "id": "GpNlzJaedmkC"
      },
      "execution_count": 4,
      "outputs": []
    },
    {
      "cell_type": "code",
      "source": [
        "# Load All Docs in a Directory\n",
        "\n",
        "def process_docs(directory, vocab):\n",
        "  for filename in listdir(directory):\n",
        "    if filename.startswith('cv9'):\n",
        "      continue\n",
        "    path = directory + '/' + filename\n",
        "    add_doc_to_vocab(path, vocab)"
      ],
      "metadata": {
        "id": "TiMD3VYRd7s3"
      },
      "execution_count": 5,
      "outputs": []
    },
    {
      "cell_type": "code",
      "source": [
        "# Save List to File\n",
        "def save_list(lines, filename):\n",
        "  data = '\\n'.join(lines)\n",
        "  file = open(filename, 'w')\n",
        "  file.write(data)\n",
        "  file.close()"
      ],
      "metadata": {
        "id": "ozH2NfOXgVxG"
      },
      "execution_count": 6,
      "outputs": []
    },
    {
      "cell_type": "code",
      "source": [
        "filename = '/content/drive/MyDrive/ReviewPopularity/txt_sentoken/pos/cv000_29590.txt'\n",
        "text = load_doc(filename)\n",
        "tokens = clean_doc(text)\n",
        "print(tokens)"
      ],
      "metadata": {
        "colab": {
          "base_uri": "https://localhost:8080/"
        },
        "id": "LrF4fM9FGbG0",
        "outputId": "e356966f-764a-4c0a-e93d-ef04906ebc5e"
      },
      "execution_count": 7,
      "outputs": [
        {
          "output_type": "stream",
          "name": "stdout",
          "text": [
            "['films', 'adapted', 'comic', 'books', 'plenty', 'success', 'whether', 'theyre', 'superheroes', 'batman', 'superman', 'spawn', 'geared', 'toward', 'kids', 'casper', 'arthouse', 'crowd', 'ghost', 'world', 'theres', 'never', 'really', 'comic', 'book', 'like', 'hell', 'starters', 'created', 'alan', 'moore', 'eddie', 'campbell', 'brought', 'medium', 'whole', 'new', 'level', 'mid', 'series', 'called', 'watchmen', 'say', 'moore', 'campbell', 'thoroughly', 'researched', 'subject', 'jack', 'ripper', 'would', 'like', 'saying', 'michael', 'jackson', 'starting', 'look', 'little', 'odd', 'book', 'graphic', 'novel', 'pages', 'long', 'includes', 'nearly', 'consist', 'nothing', 'footnotes', 'words', 'dont', 'dismiss', 'film', 'source', 'get', 'past', 'whole', 'comic', 'book', 'thing', 'might', 'find', 'another', 'stumbling', 'block', 'hells', 'directors', 'albert', 'allen', 'hughes', 'getting', 'hughes', 'brothers', 'direct', 'seems', 'almost', 'ludicrous', 'casting', 'carrot', 'top', 'well', 'anything', 'riddle', 'better', 'direct', 'film', 'thats', 'set', 'ghetto', 'features', 'really', 'violent', 'street', 'crime', 'mad', 'geniuses', 'behind', 'menace', 'ii', 'society', 'ghetto', 'question', 'course', 'whitechapel', 'londons', 'east', 'end', 'filthy', 'sooty', 'place', 'whores', 'called', 'unfortunates', 'starting', 'get', 'little', 'nervous', 'mysterious', 'psychopath', 'carving', 'profession', 'surgical', 'precision', 'first', 'stiff', 'turns', 'copper', 'peter', 'godley', 'robbie', 'coltrane', 'world', 'enough', 'calls', 'inspector', 'frederick', 'abberline', 'johnny', 'depp', 'blow', 'crack', 'case', 'abberline', 'widower', 'prophetic', 'dreams', 'unsuccessfully', 'tries', 'quell', 'copious', 'amounts', 'absinthe', 'opium', 'upon', 'arriving', 'whitechapel', 'befriends', 'unfortunate', 'named', 'mary', 'kelly', 'heather', 'graham', 'say', 'isnt', 'proceeds', 'investigate', 'horribly', 'gruesome', 'crimes', 'even', 'police', 'surgeon', 'cant', 'stomach', 'dont', 'think', 'anyone', 'needs', 'briefed', 'jack', 'ripper', 'wont', 'go', 'particulars', 'say', 'moore', 'campbell', 'unique', 'interesting', 'theory', 'identity', 'killer', 'reasons', 'chooses', 'slay', 'comic', 'dont', 'bother', 'cloaking', 'identity', 'ripper', 'screenwriters', 'terry', 'hayes', 'vertical', 'limit', 'rafael', 'yglesias', 'les', 'mis', 'rables', 'good', 'job', 'keeping', 'hidden', 'viewers', 'end', 'funny', 'watch', 'locals', 'blindly', 'point', 'finger', 'blame', 'jews', 'indians', 'englishman', 'could', 'never', 'capable', 'committing', 'ghastly', 'acts', 'hells', 'ending', 'whistling', 'stonecutters', 'song', 'simpsons', 'days', 'holds', 'back', 'electric', 'carwho', 'made', 'steve', 'guttenberg', 'star', 'dont', 'worry', 'itll', 'make', 'sense', 'see', 'onto', 'hells', 'appearance', 'certainly', 'dark', 'bleak', 'enough', 'surprising', 'see', 'much', 'looks', 'like', 'tim', 'burton', 'film', 'planet', 'apes', 'times', 'seems', 'like', 'sleepy', 'hollow', 'print', 'saw', 'wasnt', 'completely', 'finished', 'color', 'music', 'finalized', 'comments', 'marilyn', 'manson', 'cinematographer', 'peter', 'deming', 'dont', 'say', 'word', 'ably', 'captures', 'dreariness', 'victorianera', 'london', 'helped', 'make', 'flashy', 'killing', 'scenes', 'remind', 'crazy', 'flashbacks', 'twin', 'peaks', 'even', 'though', 'violence', 'film', 'pales', 'comparison', 'blackandwhite', 'comic', 'oscar', 'winner', 'martin', 'childs', 'shakespeare', 'love', 'production', 'design', 'turns', 'original', 'prague', 'surroundings', 'one', 'creepy', 'place', 'even', 'acting', 'hell', 'solid', 'dreamy', 'depp', 'turning', 'typically', 'strong', 'performance', 'deftly', 'handling', 'british', 'accent', 'ians', 'holm', 'joe', 'goulds', 'secret', 'richardson', 'dalmatians', 'log', 'great', 'supporting', 'roles', 'big', 'surprise', 'graham', 'cringed', 'first', 'time', 'opened', 'mouth', 'imagining', 'attempt', 'irish', 'accent', 'actually', 'wasnt', 'half', 'bad', 'film', 'however', 'good', 'strong', 'violencegore', 'sexuality', 'language', 'drug', 'content']\n"
          ]
        }
      ]
    },
    {
      "cell_type": "code",
      "source": [
        "# Define Vocab\n",
        "\n",
        "from os import listdir\n",
        "from collections import Counter\n",
        "\n",
        "vocab = Counter()\n",
        "process_docs('/content/drive/MyDrive/ReviewPopularity/txt_sentoken/pos', vocab)\n",
        "process_docs('/content/drive/MyDrive/ReviewPopularity/txt_sentoken/neg', vocab)\n",
        "print(len(vocab))\n",
        "print(vocab.most_common(50))"
      ],
      "metadata": {
        "colab": {
          "base_uri": "https://localhost:8080/"
        },
        "id": "AGjFXTVTfLWy",
        "outputId": "e288e27e-8293-4c76-f176-129093eb687a"
      },
      "execution_count": 8,
      "outputs": [
        {
          "output_type": "stream",
          "name": "stdout",
          "text": [
            "44276\n",
            "[('film', 7983), ('one', 4946), ('movie', 4826), ('like', 3201), ('even', 2262), ('good', 2080), ('time', 2041), ('story', 1907), ('films', 1873), ('would', 1844), ('much', 1824), ('also', 1757), ('characters', 1735), ('get', 1724), ('character', 1703), ('two', 1643), ('first', 1588), ('see', 1557), ('way', 1515), ('well', 1511), ('make', 1418), ('really', 1407), ('little', 1351), ('life', 1334), ('plot', 1288), ('people', 1269), ('could', 1248), ('bad', 1248), ('scene', 1241), ('movies', 1238), ('never', 1201), ('best', 1179), ('new', 1140), ('scenes', 1135), ('man', 1131), ('many', 1130), ('doesnt', 1118), ('know', 1092), ('dont', 1086), ('hes', 1024), ('great', 1014), ('another', 992), ('action', 985), ('love', 977), ('us', 967), ('go', 952), ('director', 948), ('end', 946), ('something', 945), ('still', 936)]\n"
          ]
        }
      ]
    },
    {
      "cell_type": "code",
      "source": [
        "# Define Vocab with Minimum Occurence\n",
        "\n",
        "from os import listdir\n",
        "from collections import Counter\n",
        "\n",
        "vocab = Counter()\n",
        "process_docs('/content/drive/MyDrive/ReviewPopularity/txt_sentoken/pos', vocab)\n",
        "process_docs('/content/drive/MyDrive/ReviewPopularity/txt_sentoken/neg', vocab)\n",
        "print(len(vocab))\n",
        "\n",
        "min_occurence = 2\n",
        "tokens = [k for k,c in vocab.items() if c >= min_occurence]\n",
        "print(len(tokens))"
      ],
      "metadata": {
        "id": "nqkV_r6WHSwa",
        "colab": {
          "base_uri": "https://localhost:8080/"
        },
        "outputId": "bf32116f-18fe-4cda-d26c-953396938e6a"
      },
      "execution_count": 9,
      "outputs": [
        {
          "output_type": "stream",
          "name": "stdout",
          "text": [
            "44276\n",
            "25767\n"
          ]
        }
      ]
    },
    {
      "cell_type": "code",
      "source": [
        "# Saving Vocab to File\n",
        "save_list(tokens, 'vocab.txt')"
      ],
      "metadata": {
        "id": "NiddmEethaJp"
      },
      "execution_count": 10,
      "outputs": []
    },
    {
      "cell_type": "markdown",
      "source": [
        "# **Bag of Words Representation**"
      ],
      "metadata": {
        "id": "p7HAHuQXhyms"
      }
    },
    {
      "cell_type": "code",
      "source": [
        "import string\n",
        "import re\n",
        "from os import listdir\n",
        "from nltk.corpus import stopwords\n",
        "from keras.preprocessing.text import Tokenizer"
      ],
      "metadata": {
        "id": "wdXRTQ-yjX57"
      },
      "execution_count": 11,
      "outputs": []
    },
    {
      "cell_type": "code",
      "source": [
        "# Loading the Document\n",
        "\n",
        "def load_doc(filename):\n",
        "  file = open(filename, 'r')\n",
        "  text = file.read()\n",
        "  file.close()\n",
        "  return text"
      ],
      "metadata": {
        "id": "54HakjL8jaEn"
      },
      "execution_count": 12,
      "outputs": []
    },
    {
      "cell_type": "code",
      "source": [
        "# Turning a Doc into Clean Tokens\n",
        "\n",
        "def clean_doc(doc):\n",
        "  tokens = doc.split()\n",
        "  re_punc = re.compile('[%s]' % re.escape(string.punctuation))\n",
        "  tokens = [re_punc.sub('', w) for w in tokens]\n",
        "  tokens = [word for word in tokens if word.isalpha()]\n",
        "  stop_words = set(stopwords.words('english'))\n",
        "  tokens = [w for w in tokens if not w in stop_words]\n",
        "  tokens = [word for word in tokens if len(word) > 1]\n",
        "  return tokens"
      ],
      "metadata": {
        "id": "WAXQdmkPjiC7"
      },
      "execution_count": 13,
      "outputs": []
    },
    {
      "cell_type": "code",
      "source": [
        "# Loading Doc, Cleaning and Returning Lines of Tokens\n",
        "\n",
        "def doc_to_line(filename, vocab):\n",
        "  doc = load_doc(filename)\n",
        "  tokens = clean_doc(doc)\n",
        "  tokens = [w for w in tokens if w in vocab]\n",
        "  return ' '.join(tokens)"
      ],
      "metadata": {
        "id": "GAOdF-l8juBT"
      },
      "execution_count": 14,
      "outputs": []
    },
    {
      "cell_type": "code",
      "source": [
        "# Load All Docs in a Directory\n",
        "\n",
        "def process_docs(directory, vocab, is_train):\n",
        "  lines = list()\n",
        "  for filename in listdir(directory):\n",
        "    if is_train and filename.startswith('cv9'):\n",
        "      continue\n",
        "    if not is_train and not filename.startswith('cv9'):\n",
        "      continue\n",
        "  path = directory + '/' + filename\n",
        "  line = doc_to_line(path, vocab)\n",
        "  lines.append(line)\n",
        "  return lines"
      ],
      "metadata": {
        "id": "iyYRjfaqkEi1"
      },
      "execution_count": 15,
      "outputs": []
    },
    {
      "cell_type": "code",
      "source": [
        "# Loading Clean a Dataset\n",
        "\n",
        "def load_clean_dataset(vocab, is_train):\n",
        "  neg = process_docs('/content/drive/MyDrive/ReviewPopularity/txt_sentoken/neg', vocab, True)\n",
        "  pos = process_docs('/content/drive/MyDrive/ReviewPopularity/txt_sentoken/pos', vocab, True)\n",
        "  docs = neg + pos\n",
        "  labels = [0 for _ in range(len(neg))] + [1 for _ in range(len(pos))]\n",
        "  return docs, labels"
      ],
      "metadata": {
        "id": "4_0ApPyOkbLf"
      },
      "execution_count": 16,
      "outputs": []
    },
    {
      "cell_type": "code",
      "source": [
        "# Fitting a Tokenizer\n",
        "\n",
        "def create_tokenizer(lines):\n",
        "  tokenizer = Tokenizer()\n",
        "  tokenizer.fit_on_texts(lines)\n",
        "  return tokenizer"
      ],
      "metadata": {
        "id": "hq7MWIJMkkF0"
      },
      "execution_count": 17,
      "outputs": []
    },
    {
      "cell_type": "code",
      "source": [
        "# Defining Model \n",
        "\n",
        "def define_model(n_words):\n",
        "  # define network\n",
        "  model = Sequential()\n",
        "  model.add(Dense(50, input_shape=(n_words,), activation='relu'))\n",
        "  model.add(Dense(1, activation='sigmoid'))\n",
        "  # compile network\n",
        "  model.compile(loss='binary_crossentropy', optimizer='adam', metrics=['accuracy'])\n",
        "  # summarize defined model\n",
        "  model.summary()\n",
        "  plot_model(model, to_file='model.png', show_shapes=True)\n",
        "  return model"
      ],
      "metadata": {
        "id": "iLuDVy_1qAU2"
      },
      "execution_count": 18,
      "outputs": []
    },
    {
      "cell_type": "code",
      "source": [
        "# Loading the Vocabulary\n",
        "\n",
        "vocab_filename = 'vocab.txt'\n",
        "vocab = load_doc(vocab_filename)\n",
        "vocab = set(vocab.split())"
      ],
      "metadata": {
        "id": "u2d56GlkhhW0"
      },
      "execution_count": 19,
      "outputs": []
    },
    {
      "cell_type": "code",
      "source": [
        "# Load All Reviews\n",
        "\n",
        "train_docs, ytrain = load_clean_dataset(vocab, True)\n",
        "test_docs, ytest = load_clean_dataset(vocab, False)"
      ],
      "metadata": {
        "id": "1sY2tFgkktVM"
      },
      "execution_count": 20,
      "outputs": []
    },
    {
      "cell_type": "code",
      "source": [
        "# Creating Tokenizer\n",
        "\n",
        "tokenizer = create_tokenizer(train_docs)"
      ],
      "metadata": {
        "id": "GBSIS8xckyFe"
      },
      "execution_count": 21,
      "outputs": []
    },
    {
      "cell_type": "code",
      "source": [
        "# Encoding Data\n",
        "\n",
        "Xtrain = tokenizer.texts_to_matrix(train_docs, mode='freq')\n",
        "Xtest = tokenizer.texts_to_matrix(test_docs, mode='freq')\n",
        "print(Xtrain.shape, Xtest.shape)"
      ],
      "metadata": {
        "colab": {
          "base_uri": "https://localhost:8080/"
        },
        "id": "qKcfMWGHk12H",
        "outputId": "1d5e46f6-a4d1-47db-bed2-91aedd8f3e9e"
      },
      "execution_count": 22,
      "outputs": [
        {
          "output_type": "stream",
          "name": "stdout",
          "text": [
            "(2, 516) (2, 516)\n"
          ]
        }
      ]
    },
    {
      "cell_type": "markdown",
      "source": [
        "# **Creating and Fitting the Model and Applying the Model on New Reviews**"
      ],
      "metadata": {
        "id": "ynIab4SO2nEu"
      }
    },
    {
      "cell_type": "code",
      "source": [
        "import string\n",
        "import numpy as np\n",
        "import re\n",
        "from os import listdir\n",
        "from nltk.corpus import stopwords\n",
        "from keras.preprocessing.text import Tokenizer\n",
        "from keras.utils.vis_utils import plot_model\n",
        "from keras.models import Sequential\n",
        "from keras.layers import Dense"
      ],
      "metadata": {
        "id": "sxN7pcdj3rQo"
      },
      "execution_count": 23,
      "outputs": []
    },
    {
      "cell_type": "code",
      "source": [
        "# Loading Doc\n",
        "def load_doc(filename):\n",
        "  file = open(filename, 'r')\n",
        "  text = file.read()\n",
        "  file.close()\n",
        "  return text"
      ],
      "metadata": {
        "id": "wXI_uTFC22d0"
      },
      "execution_count": 24,
      "outputs": []
    },
    {
      "cell_type": "code",
      "source": [
        "# Cleaning Doc\n",
        "def clean_doc(doc):\n",
        "  tokens = doc.split()\n",
        "  re_punc = re.compile('[%s]' % re.escape(string.punctuation))\n",
        "  tokens = [re_punc.sub('', w) for w in tokens]\n",
        "  tokens = [word for word in tokens if word.isalpha()]\n",
        "  stop_words = set(stopwords.words('english'))\n",
        "  tokens = [w for w in tokens if not w in stop_words]\n",
        "  tokens = [word for word in tokens if len(word) > 1]\n",
        "  return tokens"
      ],
      "metadata": {
        "id": "vmtvOX7_29B8"
      },
      "execution_count": 25,
      "outputs": []
    },
    {
      "cell_type": "code",
      "source": [
        "# Coverting into Lines\n",
        "def doc_to_line(filename, vocab):\n",
        "  doc = load_doc(filename)\n",
        "  tokens = clean_doc(doc)\n",
        "  tokens = [w for w in tokens if w in vocab]\n",
        "  return ' '.join(tokens)"
      ],
      "metadata": {
        "id": "__SdBhQn3CKL"
      },
      "execution_count": 26,
      "outputs": []
    },
    {
      "cell_type": "code",
      "source": [
        "# Processing Doc\n",
        "def process_docs(directory, vocab):\n",
        "  lines = list()\n",
        "  for filename in listdir(directory):\n",
        "    path = directory + '/' + filename\n",
        "    line = doc_to_line(path, vocab)\n",
        "    lines.append(line)\n",
        "  return lines"
      ],
      "metadata": {
        "id": "-yY2pbUH3ETl"
      },
      "execution_count": 27,
      "outputs": []
    },
    {
      "cell_type": "code",
      "source": [
        "# Loading Clean Dataset\n",
        "def load_clean_dataset(vocab):\n",
        "  neg = process_docs('/content/drive/MyDrive/ReviewPopularity/txt_sentoken/neg', vocab)\n",
        "  pos = process_docs('/content/drive/MyDrive/ReviewPopularity/txt_sentoken/pos', vocab)\n",
        "  docs = neg + pos\n",
        "  labels = [0 for _ in range(len(neg))] + [1 for _ in range(len(pos))]\n",
        "  return docs, labels"
      ],
      "metadata": {
        "id": "qwSMzD5g3JUb"
      },
      "execution_count": 28,
      "outputs": []
    },
    {
      "cell_type": "code",
      "source": [
        "# Creating Tokenizer\n",
        "def create_tokenizer(lines):\n",
        "  tokenizer = Tokenizer()\n",
        "  tokenizer.fit_on_texts(lines)\n",
        "  return tokenizer"
      ],
      "metadata": {
        "id": "fmbKSz3-3PPu"
      },
      "execution_count": 29,
      "outputs": []
    },
    {
      "cell_type": "code",
      "source": [
        "# Defining Model\n",
        "def define_model(n_words):\n",
        "  model = Sequential()\n",
        "  model.add(Dense(50, input_shape=(n_words,), activation='relu'))\n",
        "  model.add(Dense(1, activation='sigmoid'))\n",
        "  model.compile(loss='binary_crossentropy', optimizer='adam', metrics=['accuracy'])\n",
        "  model.summary()\n",
        "  plot_model(model, to_file='model.png', show_shapes=True)\n",
        "  return model"
      ],
      "metadata": {
        "id": "98WQRVgd3T1z"
      },
      "execution_count": 30,
      "outputs": []
    },
    {
      "cell_type": "code",
      "source": [
        "# Predicting Sentiment\n",
        "def predict_sentiment(review, vocab, tokenizer, model):\n",
        "  tokens = clean_doc(review)\n",
        "  tokens = [w for w in tokens if w in vocab]\n",
        "  line = ' '.join(tokens)\n",
        "  encoded = tokenizer.texts_to_matrix([line], mode='binary')\n",
        "  yhat = model.predict(encoded, verbose=0)\n",
        "  percent_pos = yhat[0,0]\n",
        "  if round(percent_pos) == 0:\n",
        "    return (1-percent_pos), 'NEGATIVE'\n",
        "  return percent_pos, 'POSITIVE'"
      ],
      "metadata": {
        "id": "FtzOOiyF3XQu"
      },
      "execution_count": 31,
      "outputs": []
    },
    {
      "cell_type": "code",
      "source": [
        "vocab_filename = 'vocab.txt'\n",
        "vocab = load_doc(vocab_filename)\n",
        "vocab = set(vocab.split())\n",
        "\n",
        "# Load All Reviews\n",
        "train_docs, ytrain = load_clean_dataset(vocab)\n",
        "test_docs, ytest = load_clean_dataset(vocab)\n",
        "\n",
        "# Convert from List to Array\n",
        "yTrain = np.array(ytrain)\n",
        "\n",
        "# Create the Tokenizer\n",
        "tokenizer = create_tokenizer(train_docs)\n",
        "\n",
        "# Encode Data\n",
        "Xtrain = tokenizer.texts_to_matrix(train_docs, mode='binary')\n",
        "Xtest = tokenizer.texts_to_matrix(test_docs, mode='binary')\n",
        "\n",
        "# Define Network\n",
        "n_words = Xtrain.shape[1]\n",
        "model = define_model(n_words)\n",
        "\n",
        "# Fit Network\n",
        "model.fit(Xtrain, yTrain, epochs=10, verbose=2)"
      ],
      "metadata": {
        "colab": {
          "base_uri": "https://localhost:8080/"
        },
        "id": "hbtNLb4mms4x",
        "outputId": "20b818c4-2f40-4b42-99a1-1560402b199a"
      },
      "execution_count": 32,
      "outputs": [
        {
          "output_type": "stream",
          "name": "stdout",
          "text": [
            "Model: \"sequential\"\n",
            "_________________________________________________________________\n",
            " Layer (type)                Output Shape              Param #   \n",
            "=================================================================\n",
            " dense (Dense)               (None, 50)                1288450   \n",
            "                                                                 \n",
            " dense_1 (Dense)             (None, 1)                 51        \n",
            "                                                                 \n",
            "=================================================================\n",
            "Total params: 1,288,501\n",
            "Trainable params: 1,288,501\n",
            "Non-trainable params: 0\n",
            "_________________________________________________________________\n",
            "Epoch 1/10\n",
            "63/63 - 1s - loss: 0.4661 - accuracy: 0.7820 - 1s/epoch - 23ms/step\n",
            "Epoch 2/10\n",
            "63/63 - 1s - loss: 0.0620 - accuracy: 0.9920 - 790ms/epoch - 13ms/step\n",
            "Epoch 3/10\n",
            "63/63 - 1s - loss: 0.0149 - accuracy: 1.0000 - 820ms/epoch - 13ms/step\n",
            "Epoch 4/10\n",
            "63/63 - 1s - loss: 0.0073 - accuracy: 1.0000 - 794ms/epoch - 13ms/step\n",
            "Epoch 5/10\n",
            "63/63 - 1s - loss: 0.0043 - accuracy: 1.0000 - 802ms/epoch - 13ms/step\n",
            "Epoch 6/10\n",
            "63/63 - 1s - loss: 0.0025 - accuracy: 1.0000 - 811ms/epoch - 13ms/step\n",
            "Epoch 7/10\n",
            "63/63 - 1s - loss: 0.0016 - accuracy: 1.0000 - 792ms/epoch - 13ms/step\n",
            "Epoch 8/10\n",
            "63/63 - 1s - loss: 0.0011 - accuracy: 1.0000 - 797ms/epoch - 13ms/step\n",
            "Epoch 9/10\n",
            "63/63 - 1s - loss: 7.5549e-04 - accuracy: 1.0000 - 776ms/epoch - 12ms/step\n",
            "Epoch 10/10\n",
            "63/63 - 1s - loss: 5.6193e-04 - accuracy: 1.0000 - 790ms/epoch - 13ms/step\n"
          ]
        },
        {
          "output_type": "execute_result",
          "data": {
            "text/plain": [
              "<keras.callbacks.History at 0x7f199d95d710>"
            ]
          },
          "metadata": {},
          "execution_count": 32
        }
      ]
    },
    {
      "cell_type": "code",
      "source": [
        "# Test Positive Text\n",
        "text = 'Best movie ever! It was great, I recommend it.'\n",
        "percent, sentiment = predict_sentiment(text, vocab, tokenizer, model)\n",
        "print('Review: [%s]\\nSentiment: %s (%.3f%%)' % (text, sentiment, percent*100))\n",
        "\n",
        "# Test Negative Text\n",
        "text = 'This is a bad movie.'\n",
        "percent, sentiment = predict_sentiment(text, vocab, tokenizer, model)\n",
        "print('Review: [%s]\\nSentiment: %s (%.3f%%)' % (text, sentiment, percent*100))"
      ],
      "metadata": {
        "colab": {
          "base_uri": "https://localhost:8080/"
        },
        "id": "hnC0evdh3dmU",
        "outputId": "9c101132-4f87-4645-8e6a-fe6a909b80f6"
      },
      "execution_count": 33,
      "outputs": [
        {
          "output_type": "stream",
          "name": "stdout",
          "text": [
            "Review: [Best movie ever! It was great, I recommend it.]\n",
            "Sentiment: POSITIVE (56.095%)\n",
            "Review: [This is a bad movie.]\n",
            "Sentiment: NEGATIVE (64.865%)\n"
          ]
        }
      ]
    },
    {
      "cell_type": "code",
      "source": [
        ""
      ],
      "metadata": {
        "id": "GMsywOuJGsfn"
      },
      "execution_count": null,
      "outputs": []
    }
  ]
}