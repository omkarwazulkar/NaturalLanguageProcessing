{
  "nbformat": 4,
  "nbformat_minor": 0,
  "metadata": {
    "colab": {
      "name": "Neural Machine Translation Model.ipynb",
      "provenance": [],
      "mount_file_id": "1wh0dIH8e8jYv5M7JotCbYBMf3bN1bGMK",
      "authorship_tag": "ABX9TyMPZDqzMVZFmk6HhNoH4AjH",
      "include_colab_link": true
    },
    "kernelspec": {
      "name": "python3",
      "display_name": "Python 3"
    },
    "language_info": {
      "name": "python"
    }
  },
  "cells": [
    {
      "cell_type": "markdown",
      "metadata": {
        "id": "view-in-github",
        "colab_type": "text"
      },
      "source": [
        "<a href=\"https://colab.research.google.com/github/omkarwazulkar/NaturalLanguageProcessing/blob/main/Neural_Machine_Translation_Model.ipynb\" target=\"_parent\"><img src=\"https://colab.research.google.com/assets/colab-badge.svg\" alt=\"Open In Colab\"/></a>"
      ]
    },
    {
      "cell_type": "code",
      "source": [
        "import string\n",
        "import re\n",
        "from pickle import dump\n",
        "from unicodedata import normalize\n",
        "from numpy import array"
      ],
      "metadata": {
        "id": "zI2fMKvRuIy_"
      },
      "execution_count": 24,
      "outputs": []
    },
    {
      "cell_type": "code",
      "source": [
        "# Loading Doc into Memory\n",
        "def load_doc(filename):\n",
        "  file = open(filename, mode='rt', encoding='utf-8')\n",
        "  text = file.read()\n",
        "  file.close()\n",
        "  return text"
      ],
      "metadata": {
        "id": "vCRhmB3KuKNg"
      },
      "execution_count": 25,
      "outputs": []
    },
    {
      "cell_type": "code",
      "source": [
        "# Split Doc into Sentences\n",
        "def to_pairs(doc):\n",
        "  lines = doc.strip().split('\\n')\n",
        "  pairs = [line.split('\\t') for line in lines]\n",
        "  return pairs"
      ],
      "metadata": {
        "id": "TxlJXWyVuN5V"
      },
      "execution_count": 26,
      "outputs": []
    },
    {
      "cell_type": "markdown",
      "source": [
        "# **Cleaning Text**"
      ],
      "metadata": {
        "id": "l_JYlBh-1dGd"
      }
    },
    {
      "cell_type": "code",
      "source": [
        "# Cleaning List\n",
        "def clean_pairs(lines):\n",
        "  cleaned = list()\n",
        "  re_punc = re.compile('[%s]' % re.escape(string.punctuation))\n",
        "  re_print = re.compile('[^%s]' % re.escape(string.printable))\n",
        "  for pair in lines:\n",
        "    clean_pair = list()\n",
        "    for line in pair:\n",
        "      line = normalize('NFD', line).encode('ascii', 'ignore')\n",
        "      line = line.decode('UTF-8')\n",
        "      line = line.split()\n",
        "      line = [word.lower() for word in line]\n",
        "      line = [re_punc.sub('', w) for w in line]\n",
        "      line = [re_print.sub('', w) for w in line]\n",
        "      line = [word for word in line if word.isalpha()]\n",
        "      clean_pair.append(' '.join(line))\n",
        "    cleaned.append(clean_pair)\n",
        "  return array(cleaned)"
      ],
      "metadata": {
        "id": "kisrdDp9uQ8b"
      },
      "execution_count": 27,
      "outputs": []
    },
    {
      "cell_type": "code",
      "source": [
        "# Saving Clean Sentences to File\n",
        "def save_clean_data(sentences, filename):\n",
        "  dump(sentences, open(filename, 'wb'))\n",
        "  print('Saved: %s' % filename)"
      ],
      "metadata": {
        "id": "a5v52w0kv2Ju"
      },
      "execution_count": 28,
      "outputs": []
    },
    {
      "cell_type": "code",
      "source": [
        "# Load Dataset\n",
        "filename = '/content/drive/MyDrive/Deu-Eng/deu.txt'\n",
        "doc = load_doc(filename)"
      ],
      "metadata": {
        "id": "3BpZnh09v4Z1"
      },
      "execution_count": 29,
      "outputs": []
    },
    {
      "cell_type": "code",
      "source": [
        "# German - English Pairs Split\n",
        "pairs = to_pairs(doc)"
      ],
      "metadata": {
        "id": "EYsk1oEkwAnP"
      },
      "execution_count": 30,
      "outputs": []
    },
    {
      "cell_type": "code",
      "source": [
        "# Clean Sentences\n",
        "clean_pairs = clean_pairs(pairs)"
      ],
      "metadata": {
        "id": "BL2XC-CxwDTq"
      },
      "execution_count": 31,
      "outputs": []
    },
    {
      "cell_type": "code",
      "source": [
        "# Save Clean Pairs to File\n",
        "save_clean_data(clean_pairs, 'english-german.pkl')\n",
        "for i in range(100):\n",
        "  print('[%s] => [%s]' % (clean_pairs[i,0], clean_pairs[i,1]))"
      ],
      "metadata": {
        "colab": {
          "base_uri": "https://localhost:8080/"
        },
        "id": "xgoPuyR8uWFV",
        "outputId": "025f9d52-5ebb-423d-9ca6-1a46ea22aa77"
      },
      "execution_count": 32,
      "outputs": [
        {
          "output_type": "stream",
          "name": "stdout",
          "text": [
            "Saved: english-german.pkl\n",
            "[go] => [geh]\n",
            "[hi] => [hallo]\n",
            "[hi] => [gru gott]\n",
            "[run] => [lauf]\n",
            "[run] => [lauf]\n",
            "[wow] => [potzdonner]\n",
            "[wow] => [donnerwetter]\n",
            "[duck] => [kopf runter]\n",
            "[fire] => [feuer]\n",
            "[help] => [hilfe]\n",
            "[help] => [zu hulf]\n",
            "[stay] => [bleib]\n",
            "[stop] => [stopp]\n",
            "[stop] => [anhalten]\n",
            "[wait] => [warte]\n",
            "[wait] => [warte]\n",
            "[begin] => [fang an]\n",
            "[do it] => [mache es]\n",
            "[do it] => [tue es]\n",
            "[go on] => [mach weiter]\n",
            "[hello] => [hallo]\n",
            "[hello] => [sers]\n",
            "[hurry] => [beeil dich]\n",
            "[hurry] => [schnell]\n",
            "[i hid] => [ich versteckte mich]\n",
            "[i hid] => [ich habe mich versteckt]\n",
            "[i ran] => [ich rannte]\n",
            "[i see] => [ich verstehe]\n",
            "[i see] => [aha]\n",
            "[i try] => [ich versuche es]\n",
            "[i try] => [ich probiere es]\n",
            "[i won] => [ich hab gewonnen]\n",
            "[i won] => [ich habe gewonnen]\n",
            "[i won] => [ich habe gewonnen]\n",
            "[oh no] => [oh nein]\n",
            "[relax] => [entspann dich]\n",
            "[shoot] => [feuer]\n",
            "[shoot] => [schie]\n",
            "[smile] => [lacheln]\n",
            "[sorry] => [entschuldigung]\n",
            "[ask me] => [frag mich]\n",
            "[ask me] => [fragt mich]\n",
            "[ask me] => [fragen sie mich]\n",
            "[attack] => [angriff]\n",
            "[attack] => [attacke]\n",
            "[buy it] => [kaufs]\n",
            "[cheers] => [zum wohl]\n",
            "[eat it] => [iss es]\n",
            "[eat up] => [iss fertig]\n",
            "[eat up] => [iss auf]\n",
            "[eat up] => [iss auf]\n",
            "[freeze] => [keine bewegung]\n",
            "[freeze] => [stehenbleiben]\n",
            "[go now] => [geh jetzt]\n",
            "[got it] => [verstanden]\n",
            "[got it] => [ich habs]\n",
            "[got it] => [aha]\n",
            "[got it] => [kapiert]\n",
            "[got it] => [verstanden]\n",
            "[got it] => [einverstanden]\n",
            "[he ran] => [er rannte]\n",
            "[he ran] => [er lief]\n",
            "[hop in] => [mach mit]\n",
            "[hop in] => [spring rein]\n",
            "[hug me] => [druck mich]\n",
            "[hug me] => [nimm mich in den arm]\n",
            "[hug me] => [umarme mich]\n",
            "[i care] => [mir ist es wichtig]\n",
            "[i fell] => [ich fiel]\n",
            "[i fell] => [ich fiel hin]\n",
            "[i fell] => [ich sturzte]\n",
            "[i fell] => [ich bin hingefallen]\n",
            "[i fell] => [ich bin gesturzt]\n",
            "[i fled] => [ich fluchtete]\n",
            "[i fled] => [ich bin gefluchtet]\n",
            "[i know] => [ich wei]\n",
            "[i lied] => [ich habe gelogen]\n",
            "[i lost] => [ich habe verloren]\n",
            "[i paid] => [ich habe bezahlt]\n",
            "[i paid] => [ich zahlte]\n",
            "[i sang] => [ich sang]\n",
            "[i spit] => [ich spuckte]\n",
            "[i spit] => [ich habe gespuckt]\n",
            "[i swim] => [ich schwimme]\n",
            "[i wept] => [ich weinte]\n",
            "[i wept] => [ich habe geweint]\n",
            "[im] => [ich bin jahre alt]\n",
            "[im] => [ich bin]\n",
            "[im ok] => [mir gehts gut]\n",
            "[im ok] => [es geht mir gut]\n",
            "[im up] => [ich bin wach]\n",
            "[im up] => [ich bin auf]\n",
            "[listen] => [hort zu]\n",
            "[no way] => [unmoglich]\n",
            "[no way] => [das kommt nicht in frage]\n",
            "[no way] => [das gibts doch nicht]\n",
            "[no way] => [ausgeschlossen]\n",
            "[no way] => [in keinster weise]\n",
            "[really] => [wirklich]\n",
            "[really] => [echt]\n"
          ]
        }
      ]
    },
    {
      "cell_type": "markdown",
      "source": [
        "# **Splitting Text**"
      ],
      "metadata": {
        "id": "zRX6jkQ11UDy"
      }
    },
    {
      "cell_type": "code",
      "source": [
        "from pickle import load\n",
        "from pickle import dump\n",
        "from numpy.random import shuffle\n"
      ],
      "metadata": {
        "id": "59aRz8CXnzHy"
      },
      "execution_count": 33,
      "outputs": []
    },
    {
      "cell_type": "code",
      "source": [
        "# Load Clean Data\n",
        "def load_clean_sentences(filename):\n",
        "  return load(open(filename, 'rb'))"
      ],
      "metadata": {
        "id": "PbFT5iuDwqx8"
      },
      "execution_count": 34,
      "outputs": []
    },
    {
      "cell_type": "code",
      "source": [
        "# Save Clean Data\n",
        "def save_clean_data(sentences, filename):\n",
        "  dump(sentences, open(filename, 'wb'))\n",
        "  print('Saved: %s' % filename)"
      ],
      "metadata": {
        "id": "wf8kU40Ywsrl"
      },
      "execution_count": 35,
      "outputs": []
    },
    {
      "cell_type": "code",
      "source": [
        "# Load Dataset\n",
        "raw_dataset = load_clean_sentences('english-german.pkl')"
      ],
      "metadata": {
        "id": "4xF1m4QDuCsQ"
      },
      "execution_count": 37,
      "outputs": []
    },
    {
      "cell_type": "code",
      "source": [
        "# Reduce Data Size\n",
        "n_sentences = 10000\n",
        "dataset = raw_dataset[:n_sentences, :]"
      ],
      "metadata": {
        "id": "0ikR7IkMw1oq"
      },
      "execution_count": 38,
      "outputs": []
    },
    {
      "cell_type": "code",
      "source": [
        "# Random Shuffle\n",
        "shuffle(dataset)"
      ],
      "metadata": {
        "id": "sZWOrhUaw3Qh"
      },
      "execution_count": 39,
      "outputs": []
    },
    {
      "cell_type": "code",
      "source": [
        "# Split into Train/Test\n",
        "train, test = dataset[:9000], dataset[9000:]"
      ],
      "metadata": {
        "id": "q-RoBPkmw49e"
      },
      "execution_count": 40,
      "outputs": []
    },
    {
      "cell_type": "code",
      "source": [
        "# Saving\n",
        "save_clean_data(dataset, 'English-German-Both.pkl')\n",
        "save_clean_data(train, 'English-German-Train.pkl')\n",
        "save_clean_data(test, 'English-German-Test.pkl')"
      ],
      "metadata": {
        "colab": {
          "base_uri": "https://localhost:8080/"
        },
        "id": "P8uh2Aucwv6e",
        "outputId": "642c2a16-cd3d-4fca-d6b1-4883485a71fc"
      },
      "execution_count": 41,
      "outputs": [
        {
          "output_type": "stream",
          "name": "stdout",
          "text": [
            "Saved: English-German-Both.pkl\n",
            "Saved: English-German-Train.pkl\n",
            "Saved: English-German-Test.pkl\n"
          ]
        }
      ]
    },
    {
      "cell_type": "markdown",
      "source": [
        "# **Training Neural Translation Model**"
      ],
      "metadata": {
        "id": "zVhbgp1v1M-j"
      }
    },
    {
      "cell_type": "code",
      "source": [
        "from pickle import load\n",
        "from numpy import array\n",
        "from keras.preprocessing.text import Tokenizer\n",
        "from keras.preprocessing.sequence import pad_sequences\n",
        "from tensorflow.keras.utils import to_categorical\n",
        "from keras.utils.vis_utils import plot_model\n",
        "from keras.models import Sequential\n",
        "from keras.layers import LSTM\n",
        "from keras.layers import Dense\n",
        "from keras.layers import Embedding\n",
        "from keras.layers import RepeatVector\n",
        "from keras.layers import TimeDistributed\n",
        "from keras.callbacks import ModelCheckpoint"
      ],
      "metadata": {
        "id": "u9pnGZTpn63h"
      },
      "execution_count": 42,
      "outputs": []
    },
    {
      "cell_type": "code",
      "source": [
        "# Load Clean Data\n",
        "def load_clean_sentences(filename):\n",
        "  return load(open(filename, 'rb'))"
      ],
      "metadata": {
        "id": "pVZBb3D7n8vQ"
      },
      "execution_count": 43,
      "outputs": []
    },
    {
      "cell_type": "code",
      "source": [
        "# Fitting Tokenizer\n",
        "def create_tokenizer(lines):\n",
        "  tokenizer = Tokenizer()\n",
        "  tokenizer.fit_on_texts(lines)\n",
        "  return tokenizer"
      ],
      "metadata": {
        "id": "AQqiHjHwn-YX"
      },
      "execution_count": 44,
      "outputs": []
    },
    {
      "cell_type": "code",
      "source": [
        "# Maximum Length of Sentence\n",
        "def max_length(lines):\n",
        "  return max(len(line.split()) for line in lines)"
      ],
      "metadata": {
        "id": "iqJLpyumoAL7"
      },
      "execution_count": 45,
      "outputs": []
    },
    {
      "cell_type": "code",
      "source": [
        "# Encode and Pad Sequences\n",
        "def encode_sequences(tokenizer, length, lines):\n",
        "  X = tokenizer.texts_to_sequences(lines)\n",
        "  X = pad_sequences(X, maxlen=length, padding='post')\n",
        "  return X"
      ],
      "metadata": {
        "id": "4-oBqBO7oByN"
      },
      "execution_count": 46,
      "outputs": []
    },
    {
      "cell_type": "code",
      "source": [
        "# One-Hot Encode Sequence\n",
        "def encode_output(sequences, vocab_size):\n",
        "  ylist = list()\n",
        "  for sequence in sequences:\n",
        "    encoded = to_categorical(sequence, num_classes=vocab_size)\n",
        "    ylist.append(encoded)\n",
        "  y = array(ylist)\n",
        "  y = y.reshape(sequences.shape[0], sequences.shape[1], vocab_size)\n",
        "  return y"
      ],
      "metadata": {
        "id": "d8291qMroKkD"
      },
      "execution_count": 47,
      "outputs": []
    },
    {
      "cell_type": "code",
      "source": [
        "# Define NMT Model\n",
        "def define_model(src_vocab, tar_vocab, src_timesteps, tar_timesteps, n_units):\n",
        "  model = Sequential()\n",
        "  model.add(Embedding(src_vocab, n_units, input_length=src_timesteps, mask_zero=True))\n",
        "  model.add(LSTM(n_units))\n",
        "  model.add(RepeatVector(tar_timesteps))\n",
        "  model.add(LSTM(n_units, return_sequences=True))\n",
        "  model.add(TimeDistributed(Dense(tar_vocab, activation='softmax')))\n",
        "  #  Compiling\n",
        "  model.compile(optimizer='adam', loss='categorical_crossentropy')\n",
        "  # Summary\n",
        "  model.summary()\n",
        "  plot_model(model, to_file='model.png', show_shapes=True)\n",
        "  return model"
      ],
      "metadata": {
        "id": "6JTJlQrtoNH8"
      },
      "execution_count": 48,
      "outputs": []
    },
    {
      "cell_type": "code",
      "source": [
        "# Load Data\n",
        "dataset = load_clean_sentences('English-German-Both.pkl')\n",
        "train = load_clean_sentences('English-German-Train.pkl')\n",
        "test = load_clean_sentences('English-German-Test.pkl')\n",
        "print(test)"
      ],
      "metadata": {
        "colab": {
          "base_uri": "https://localhost:8080/"
        },
        "id": "sJ_fn1SQoO4r",
        "outputId": "389f6c29-7729-4b17-dee4-a9ad72224596"
      },
      "execution_count": 89,
      "outputs": [
        {
          "output_type": "stream",
          "name": "stdout",
          "text": [
            "[['is this normal' 'ist das normal'\n",
            "  'ccby france attribution tatoebaorg hybrid pfirsichbaeumchen']\n",
            " ['lets go' 'lass uns losgehen'\n",
            "  'ccby france attribution tatoebaorg ck pfirsichbaeumchen']\n",
            " ['tom is slim' 'tom ist schlank'\n",
            "  'ccby france attribution tatoebaorg ck luiaard']\n",
            " ...\n",
            " ['toms smoking' 'tom raucht'\n",
            "  'ccby france attribution tatoebaorg ck pfirsichbaeumchen']\n",
            " ['thats silly' 'das ist dumm'\n",
            "  'ccby france attribution tatoebaorg ck zaghawa']\n",
            " ['im a prisoner' 'ich bin eine gefangene'\n",
            "  'ccby france attribution tatoebaorg ck pfirsichbaeumchen']]\n"
          ]
        }
      ]
    },
    {
      "cell_type": "code",
      "source": [
        "# Prepare English Eokenizer\n",
        "eng_tokenizer = create_tokenizer(dataset[:, 0])\n",
        "eng_vocab_size = len(eng_tokenizer.word_index) + 1\n",
        "eng_length = max_length(dataset[:, 0])\n",
        "print('English Vocabulary Size: %d' % eng_vocab_size)\n",
        "print('English Max Length: %d' % (eng_length))"
      ],
      "metadata": {
        "colab": {
          "base_uri": "https://localhost:8080/"
        },
        "id": "qQARE0g7oQ__",
        "outputId": "bb0397ad-e8d3-4a6c-def9-086cc380cf6d"
      },
      "execution_count": 53,
      "outputs": [
        {
          "output_type": "stream",
          "name": "stdout",
          "text": [
            "English Vocabulary Size: 2171\n",
            "English Max Length: 5\n"
          ]
        }
      ]
    },
    {
      "cell_type": "code",
      "source": [
        "# Prepare German Tokenizer\n",
        "ger_tokenizer = create_tokenizer(dataset[:, 1])\n",
        "ger_vocab_size = len(ger_tokenizer.word_index) + 1\n",
        "ger_length = max_length(dataset[:, 1])\n",
        "print('German Vocabulary Size: %d' % ger_vocab_size)\n",
        "print('German Max Length: %d' % (ger_length))"
      ],
      "metadata": {
        "colab": {
          "base_uri": "https://localhost:8080/"
        },
        "id": "QxEWGCruoSml",
        "outputId": "4e6e2420-b6b3-4056-d9fd-1d8356e43c9e"
      },
      "execution_count": 54,
      "outputs": [
        {
          "output_type": "stream",
          "name": "stdout",
          "text": [
            "German Vocabulary Size: 3533\n",
            "German Max Length: 9\n"
          ]
        }
      ]
    },
    {
      "cell_type": "code",
      "source": [
        "# Prepare Training Data\n",
        "trainX = encode_sequences(ger_tokenizer, ger_length, train[:, 1])\n",
        "trainY = encode_sequences(eng_tokenizer, eng_length, train[:, 0])\n",
        "trainY = encode_output(trainY, eng_vocab_size)"
      ],
      "metadata": {
        "id": "cR8QURk7oUHG"
      },
      "execution_count": 55,
      "outputs": []
    },
    {
      "cell_type": "code",
      "source": [
        "# Prepare Validation Data\n",
        "testX = encode_sequences(ger_tokenizer, ger_length, test[:, 1])\n",
        "testY = encode_sequences(eng_tokenizer, eng_length, test[:, 0])\n",
        "testY = encode_output(testY, eng_vocab_size)"
      ],
      "metadata": {
        "id": "Lr5HKd3PoVfq"
      },
      "execution_count": 56,
      "outputs": []
    },
    {
      "cell_type": "code",
      "source": [
        "# Define Model\n",
        "model = define_model(ger_vocab_size, eng_vocab_size, ger_length, eng_length, 256)"
      ],
      "metadata": {
        "colab": {
          "base_uri": "https://localhost:8080/"
        },
        "id": "LC-wm0NyoXR1",
        "outputId": "8f961741-78d1-4622-8ce0-e3a2eb26e65d"
      },
      "execution_count": 57,
      "outputs": [
        {
          "output_type": "stream",
          "name": "stdout",
          "text": [
            "Model: \"sequential\"\n",
            "_________________________________________________________________\n",
            " Layer (type)                Output Shape              Param #   \n",
            "=================================================================\n",
            " embedding (Embedding)       (None, 9, 256)            904448    \n",
            "                                                                 \n",
            " lstm (LSTM)                 (None, 256)               525312    \n",
            "                                                                 \n",
            " repeat_vector (RepeatVector  (None, 5, 256)           0         \n",
            " )                                                               \n",
            "                                                                 \n",
            " lstm_1 (LSTM)               (None, 5, 256)            525312    \n",
            "                                                                 \n",
            " time_distributed (TimeDistr  (None, 5, 2171)          557947    \n",
            " ibuted)                                                         \n",
            "                                                                 \n",
            "=================================================================\n",
            "Total params: 2,513,019\n",
            "Trainable params: 2,513,019\n",
            "Non-trainable params: 0\n",
            "_________________________________________________________________\n"
          ]
        }
      ]
    },
    {
      "cell_type": "code",
      "source": [
        "# Fit Model\n",
        "checkpoint = ModelCheckpoint('model.h5', monitor='val_loss', verbose=1,\n",
        "save_best_only=True, mode='min')\n",
        "\n",
        "model.fit(trainX, trainY, epochs=30, batch_size=64, validation_data=(testX, testY),\n",
        "          callbacks=[checkpoint], verbose=2)"
      ],
      "metadata": {
        "colab": {
          "base_uri": "https://localhost:8080/"
        },
        "id": "WXylkbBjn3rT",
        "outputId": "fbbd6372-c5e5-4049-ef91-9ebd61f26adc"
      },
      "execution_count": 58,
      "outputs": [
        {
          "output_type": "stream",
          "name": "stdout",
          "text": [
            "Epoch 1/30\n",
            "\n",
            "Epoch 00001: val_loss improved from inf to 3.33502, saving model to model.h5\n",
            "141/141 - 33s - loss: 4.1070 - val_loss: 3.3350 - 33s/epoch - 235ms/step\n",
            "Epoch 2/30\n",
            "\n",
            "Epoch 00002: val_loss improved from 3.33502 to 3.18507, saving model to model.h5\n",
            "141/141 - 25s - loss: 3.1974 - val_loss: 3.1851 - 25s/epoch - 179ms/step\n",
            "Epoch 3/30\n",
            "\n",
            "Epoch 00003: val_loss improved from 3.18507 to 3.05784, saving model to model.h5\n",
            "141/141 - 27s - loss: 3.0506 - val_loss: 3.0578 - 27s/epoch - 190ms/step\n",
            "Epoch 4/30\n",
            "\n",
            "Epoch 00004: val_loss improved from 3.05784 to 2.95784, saving model to model.h5\n",
            "141/141 - 26s - loss: 2.8929 - val_loss: 2.9578 - 26s/epoch - 186ms/step\n",
            "Epoch 5/30\n",
            "\n",
            "Epoch 00005: val_loss improved from 2.95784 to 2.85460, saving model to model.h5\n",
            "141/141 - 26s - loss: 2.7637 - val_loss: 2.8546 - 26s/epoch - 185ms/step\n",
            "Epoch 6/30\n",
            "\n",
            "Epoch 00006: val_loss improved from 2.85460 to 2.72091, saving model to model.h5\n",
            "141/141 - 24s - loss: 2.6176 - val_loss: 2.7209 - 24s/epoch - 174ms/step\n",
            "Epoch 7/30\n",
            "\n",
            "Epoch 00007: val_loss improved from 2.72091 to 2.60354, saving model to model.h5\n",
            "141/141 - 25s - loss: 2.4516 - val_loss: 2.6035 - 25s/epoch - 175ms/step\n",
            "Epoch 8/30\n",
            "\n",
            "Epoch 00008: val_loss improved from 2.60354 to 2.50096, saving model to model.h5\n",
            "141/141 - 26s - loss: 2.2976 - val_loss: 2.5010 - 26s/epoch - 183ms/step\n",
            "Epoch 9/30\n",
            "\n",
            "Epoch 00009: val_loss improved from 2.50096 to 2.40850, saving model to model.h5\n",
            "141/141 - 25s - loss: 2.1504 - val_loss: 2.4085 - 25s/epoch - 179ms/step\n",
            "Epoch 10/30\n",
            "\n",
            "Epoch 00010: val_loss improved from 2.40850 to 2.32476, saving model to model.h5\n",
            "141/141 - 24s - loss: 2.0120 - val_loss: 2.3248 - 24s/epoch - 173ms/step\n",
            "Epoch 11/30\n",
            "\n",
            "Epoch 00011: val_loss improved from 2.32476 to 2.25974, saving model to model.h5\n",
            "141/141 - 24s - loss: 1.8826 - val_loss: 2.2597 - 24s/epoch - 171ms/step\n",
            "Epoch 12/30\n",
            "\n",
            "Epoch 00012: val_loss improved from 2.25974 to 2.20330, saving model to model.h5\n",
            "141/141 - 24s - loss: 1.7634 - val_loss: 2.2033 - 24s/epoch - 172ms/step\n",
            "Epoch 13/30\n",
            "\n",
            "Epoch 00013: val_loss improved from 2.20330 to 2.16568, saving model to model.h5\n",
            "141/141 - 24s - loss: 1.6519 - val_loss: 2.1657 - 24s/epoch - 170ms/step\n",
            "Epoch 14/30\n",
            "\n",
            "Epoch 00014: val_loss improved from 2.16568 to 2.10777, saving model to model.h5\n",
            "141/141 - 24s - loss: 1.5469 - val_loss: 2.1078 - 24s/epoch - 170ms/step\n",
            "Epoch 15/30\n",
            "\n",
            "Epoch 00015: val_loss improved from 2.10777 to 2.06228, saving model to model.h5\n",
            "141/141 - 24s - loss: 1.4478 - val_loss: 2.0623 - 24s/epoch - 171ms/step\n",
            "Epoch 16/30\n",
            "\n",
            "Epoch 00016: val_loss improved from 2.06228 to 2.03685, saving model to model.h5\n",
            "141/141 - 24s - loss: 1.3547 - val_loss: 2.0369 - 24s/epoch - 172ms/step\n",
            "Epoch 17/30\n",
            "\n",
            "Epoch 00017: val_loss improved from 2.03685 to 2.00180, saving model to model.h5\n",
            "141/141 - 28s - loss: 1.2584 - val_loss: 2.0018 - 28s/epoch - 197ms/step\n",
            "Epoch 18/30\n",
            "\n",
            "Epoch 00018: val_loss improved from 2.00180 to 1.96061, saving model to model.h5\n",
            "141/141 - 25s - loss: 1.1721 - val_loss: 1.9606 - 25s/epoch - 178ms/step\n",
            "Epoch 19/30\n",
            "\n",
            "Epoch 00019: val_loss improved from 1.96061 to 1.93275, saving model to model.h5\n",
            "141/141 - 24s - loss: 1.0850 - val_loss: 1.9328 - 24s/epoch - 174ms/step\n",
            "Epoch 20/30\n",
            "\n",
            "Epoch 00020: val_loss improved from 1.93275 to 1.89747, saving model to model.h5\n",
            "141/141 - 24s - loss: 0.9974 - val_loss: 1.8975 - 24s/epoch - 173ms/step\n",
            "Epoch 21/30\n",
            "\n",
            "Epoch 00021: val_loss improved from 1.89747 to 1.87776, saving model to model.h5\n",
            "141/141 - 25s - loss: 0.9201 - val_loss: 1.8778 - 25s/epoch - 175ms/step\n",
            "Epoch 22/30\n",
            "\n",
            "Epoch 00022: val_loss improved from 1.87776 to 1.86219, saving model to model.h5\n",
            "141/141 - 25s - loss: 0.8428 - val_loss: 1.8622 - 25s/epoch - 175ms/step\n",
            "Epoch 23/30\n",
            "\n",
            "Epoch 00023: val_loss improved from 1.86219 to 1.85050, saving model to model.h5\n",
            "141/141 - 25s - loss: 0.7726 - val_loss: 1.8505 - 25s/epoch - 175ms/step\n",
            "Epoch 24/30\n",
            "\n",
            "Epoch 00024: val_loss improved from 1.85050 to 1.83708, saving model to model.h5\n",
            "141/141 - 25s - loss: 0.7082 - val_loss: 1.8371 - 25s/epoch - 174ms/step\n",
            "Epoch 25/30\n",
            "\n",
            "Epoch 00025: val_loss improved from 1.83708 to 1.80196, saving model to model.h5\n",
            "141/141 - 24s - loss: 0.6447 - val_loss: 1.8020 - 24s/epoch - 174ms/step\n",
            "Epoch 26/30\n",
            "\n",
            "Epoch 00026: val_loss did not improve from 1.80196\n",
            "141/141 - 24s - loss: 0.5837 - val_loss: 1.8246 - 24s/epoch - 172ms/step\n",
            "Epoch 27/30\n",
            "\n",
            "Epoch 00027: val_loss did not improve from 1.80196\n",
            "141/141 - 24s - loss: 0.5307 - val_loss: 1.8042 - 24s/epoch - 172ms/step\n",
            "Epoch 28/30\n",
            "\n",
            "Epoch 00028: val_loss did not improve from 1.80196\n",
            "141/141 - 25s - loss: 0.4830 - val_loss: 1.8136 - 25s/epoch - 175ms/step\n",
            "Epoch 29/30\n",
            "\n",
            "Epoch 00029: val_loss did not improve from 1.80196\n",
            "141/141 - 25s - loss: 0.4399 - val_loss: 1.8110 - 25s/epoch - 178ms/step\n",
            "Epoch 30/30\n",
            "\n",
            "Epoch 00030: val_loss improved from 1.80196 to 1.79977, saving model to model.h5\n",
            "141/141 - 26s - loss: 0.4022 - val_loss: 1.7998 - 26s/epoch - 188ms/step\n"
          ]
        },
        {
          "output_type": "execute_result",
          "data": {
            "text/plain": [
              "<keras.callbacks.History at 0x7f50d2fd7fd0>"
            ]
          },
          "metadata": {},
          "execution_count": 58
        }
      ]
    },
    {
      "cell_type": "markdown",
      "source": [
        "# **Evaluating Neural Tranlation Model**"
      ],
      "metadata": {
        "id": "mazuU28K07zK"
      }
    },
    {
      "cell_type": "code",
      "source": [
        "from pickle import load\n",
        "from numpy import argmax\n",
        "from keras.preprocessing.text import Tokenizer\n",
        "from keras.preprocessing.sequence import pad_sequences\n",
        "from keras.models import load_model\n",
        "from nltk.translate.bleu_score import SmoothingFunction"
      ],
      "metadata": {
        "id": "el-ond-7qywc"
      },
      "execution_count": 60,
      "outputs": []
    },
    {
      "cell_type": "code",
      "source": [
        "# Load a Clean Data\n",
        "def load_clean_sentences(filename):\n",
        "  return load(open(filename, 'rb'))"
      ],
      "metadata": {
        "id": "iW6pDqS9s6FD"
      },
      "execution_count": 61,
      "outputs": []
    },
    {
      "cell_type": "code",
      "source": [
        "# Fitting Tokenizer\n",
        "def create_tokenizer(lines):\n",
        "  tokenizer = Tokenizer()\n",
        "  tokenizer.fit_on_texts(lines)\n",
        "  return tokenizer"
      ],
      "metadata": {
        "id": "C6iOqgbqtrWH"
      },
      "execution_count": 62,
      "outputs": []
    },
    {
      "cell_type": "code",
      "source": [
        "# Maximum Length of Sentence\n",
        "def max_length(lines):\n",
        "  return max(len(line.split()) for line in lines)"
      ],
      "metadata": {
        "id": "OYrl6z3Pts4g"
      },
      "execution_count": 63,
      "outputs": []
    },
    {
      "cell_type": "code",
      "source": [
        "# Encode and Pad Sequences\n",
        "def encode_sequences(tokenizer, length, lines):\n",
        "  X = tokenizer.texts_to_sequences(lines)\n",
        "  X = pad_sequences(X, maxlen=length, padding='post')\n",
        "  return X"
      ],
      "metadata": {
        "id": "wEPCfqdytvQQ"
      },
      "execution_count": 64,
      "outputs": []
    },
    {
      "cell_type": "code",
      "source": [
        "# Map Integer to Word\n",
        "def word_for_id(integer, tokenizer):\n",
        "  for word, index in tokenizer.word_index.items():\n",
        "    if index == integer:\n",
        "      return word\n",
        "  return None"
      ],
      "metadata": {
        "id": "Zo_9IT8Ytxn1"
      },
      "execution_count": 65,
      "outputs": []
    },
    {
      "cell_type": "code",
      "source": [
        "# Generate Target\n",
        "def predict_sequence(model, tokenizer, source):\n",
        "  prediction = model.predict(source, verbose=0)[0]\n",
        "  integers = [argmax(vector) for vector in prediction]\n",
        "  target = list()\n",
        "  for i in integers:\n",
        "    word = word_for_id(i, tokenizer)\n",
        "    if word is None:\n",
        "        break\n",
        "    target.append(word)\n",
        "  return ' '.join(target)"
      ],
      "metadata": {
        "id": "eDXUStuMtzxt"
      },
      "execution_count": 66,
      "outputs": []
    },
    {
      "cell_type": "code",
      "source": [
        "# Evaluating Model\n",
        "def evaluate_model(model, sources, raw_dataset):\n",
        "  actual, predicted = list(), list()\n",
        "  for i, source in enumerate(sources):\n",
        "    source = source.reshape((1, source.shape[0]))\n",
        "    translation = predict_sequence(model, eng_tokenizer, source)\n",
        "    raw_target, raw_src = raw_dataset[i, :-1]\n",
        "    if i < 10:\n",
        "      print('src=[%s], target=[%s], predicted=[%s]' % (raw_src, raw_target, translation))\n",
        "    actual.append(raw_target.split())\n",
        "    predicted.append(translation.split())\n",
        "  print('BLEU-1: %f' % corpus_bleu(actual, predicted, weights=(1.0, 0, 0, 0)))\n",
        "  print('BLEU-2: %f' % corpus_bleu(actual, predicted, weights=(0.5, 0.5, 0, 0)))\n",
        "  print('BLEU-3: %f' % corpus_bleu(actual, predicted, weights=(0.3, 0.3, 0.3, 0)))\n",
        "  print('BLEU-4: %f' % corpus_bleu(actual, predicted, weights=(0.25, 0.25, 0.25, 0.25)))"
      ],
      "metadata": {
        "id": "kcIX39Lwt9ft"
      },
      "execution_count": 90,
      "outputs": []
    },
    {
      "cell_type": "code",
      "source": [
        "# Load Datas\n",
        "dataset = load_clean_sentences('English-German-Both.pkl')\n",
        "train = load_clean_sentences('English-German-Train.pkl')\n",
        "test = load_clean_sentences('English-German-Test.pkl')"
      ],
      "metadata": {
        "id": "45l3PtL40QkT"
      },
      "execution_count": null,
      "outputs": []
    },
    {
      "cell_type": "code",
      "source": [
        "# Prepare English Tokenizer\n",
        "eng_tokenizer = create_tokenizer(dataset[:, 0])\n",
        "eng_vocab_size = len(eng_tokenizer.word_index) + 1\n",
        "eng_length = max_length(dataset[:, 0])"
      ],
      "metadata": {
        "id": "Rno861kx0SGt"
      },
      "execution_count": 70,
      "outputs": []
    },
    {
      "cell_type": "code",
      "source": [
        "# Prepare German Eokenizer\n",
        "ger_tokenizer = create_tokenizer(dataset[:, 1])\n",
        "ger_vocab_size = len(ger_tokenizer.word_index) + 1\n",
        "ger_length = max_length(dataset[:, 1])"
      ],
      "metadata": {
        "id": "m7IltplX0Tsp"
      },
      "execution_count": 71,
      "outputs": []
    },
    {
      "cell_type": "code",
      "source": [
        "# Prepare Data\n",
        "trainX = encode_sequences(ger_tokenizer, ger_length, train[:, 1])\n",
        "print(type(trainX))\n",
        "testX = encode_sequences(ger_tokenizer, ger_length, test[:, 1])"
      ],
      "metadata": {
        "colab": {
          "base_uri": "https://localhost:8080/"
        },
        "id": "Q2BsUHHn0XSZ",
        "outputId": "012607f6-a9c6-4833-92df-1698b34d1ff6"
      },
      "execution_count": 83,
      "outputs": [
        {
          "output_type": "stream",
          "name": "stdout",
          "text": [
            "<class 'numpy.ndarray'>\n"
          ]
        }
      ]
    },
    {
      "cell_type": "code",
      "source": [
        "# Load Model\n",
        "model = load_model('model.h5')"
      ],
      "metadata": {
        "id": "B7CiMjoq0Zzm"
      },
      "execution_count": 73,
      "outputs": []
    },
    {
      "cell_type": "code",
      "source": [
        "# Test on Training Sequences\n",
        "print('train')\n",
        "evaluate_model(model, trainX, train)"
      ],
      "metadata": {
        "colab": {
          "base_uri": "https://localhost:8080/"
        },
        "id": "Sibt_1gK0biK",
        "outputId": "c08f3134-cc8a-4802-d502-0e79ed8ba897"
      },
      "execution_count": 91,
      "outputs": [
        {
          "output_type": "stream",
          "name": "stdout",
          "text": [
            "train\n",
            "src=[ich zahle spater], target=[ill pay later], predicted=[ill pay later]\n",
            "src=[ich bin ein student], target=[i am a student], predicted=[i am a student]\n",
            "src=[war tom hier], target=[was tom here], predicted=[was tom here]\n",
            "src=[konnen wir gehen], target=[can we go], predicted=[can we go]\n",
            "src=[tom ist gro], target=[tom is tall], predicted=[tom is tall]\n",
            "src=[das war schwer], target=[this was hard], predicted=[that was hard]\n",
            "src=[nur tom ist gegangen], target=[only tom left], predicted=[bring tom in]\n",
            "src=[ich gehe jetzt], target=[im going now], predicted=[im going now]\n",
            "src=[wartet noch ein bisschen], target=[wait a bit], predicted=[wait a bit]\n",
            "src=[seien sie diskret], target=[be discreet], predicted=[be discreet]\n"
          ]
        },
        {
          "output_type": "stream",
          "name": "stderr",
          "text": [
            "/usr/local/lib/python3.7/dist-packages/nltk/translate/bleu_score.py:490: UserWarning: \n",
            "Corpus/Sentence contains 0 counts of 2-gram overlaps.\n",
            "BLEU scores might be undesirable; use SmoothingFunction().\n",
            "  warnings.warn(_msg)\n"
          ]
        },
        {
          "output_type": "stream",
          "name": "stdout",
          "text": [
            "BLEU-1: 0.085428\n",
            "BLEU-2: 0.277811\n",
            "BLEU-3: 0.445254\n",
            "BLEU-4: 0.500983\n"
          ]
        }
      ]
    },
    {
      "cell_type": "code",
      "source": [
        "# Test on Test sequences\n",
        "print('test')\n",
        "evaluate_model(model, testX, test)"
      ],
      "metadata": {
        "colab": {
          "base_uri": "https://localhost:8080/"
        },
        "id": "Troe169YohMi",
        "outputId": "c0c804ef-421a-4ba2-96cc-9127d3a03a68"
      },
      "execution_count": 92,
      "outputs": [
        {
          "output_type": "stream",
          "name": "stdout",
          "text": [
            "test\n",
            "src=[ist das normal], target=[is this normal], predicted=[is that normal]\n",
            "src=[lass uns losgehen], target=[lets go], predicted=[lets go]\n",
            "src=[tom ist schlank], target=[tom is slim], predicted=[tom is crafty]\n",
            "src=[haben sie gewahlt], target=[did you vote], predicted=[did you vote]\n",
            "src=[er skatet], target=[he is skating], predicted=[he disappeared]\n",
            "src=[tom hat geschwitzt], target=[tom sweated], predicted=[tom was fired]\n",
            "src=[ich komm schon klar], target=[ill be fine], predicted=[i will you]\n",
            "src=[sonst noch etwas], target=[anything else], predicted=[some you]\n",
            "src=[er kommt zu spat], target=[he is late], predicted=[its is big]\n",
            "src=[wer stand], target=[who stood], predicted=[who stayed]\n"
          ]
        },
        {
          "output_type": "stream",
          "name": "stderr",
          "text": [
            "/usr/local/lib/python3.7/dist-packages/nltk/translate/bleu_score.py:490: UserWarning: \n",
            "Corpus/Sentence contains 0 counts of 2-gram overlaps.\n",
            "BLEU scores might be undesirable; use SmoothingFunction().\n",
            "  warnings.warn(_msg)\n"
          ]
        },
        {
          "output_type": "stream",
          "name": "stdout",
          "text": [
            "BLEU-1: 0.079367\n",
            "BLEU-2: 0.265860\n",
            "BLEU-3: 0.431180\n",
            "BLEU-4: 0.486586\n"
          ]
        }
      ]
    }
  ]
}